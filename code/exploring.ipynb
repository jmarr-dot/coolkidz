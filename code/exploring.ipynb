{
 "cells": [
  {
   "cell_type": "markdown",
   "metadata": {},
   "source": [
    "# Parsing 'Results*' Files\n",
    "\n",
    "This section will be used to parse the results file in `data/` and create a csv with the required outputs."
   ]
  },
  {
   "cell_type": "code",
   "execution_count": 1,
   "metadata": {},
   "outputs": [],
   "source": [
    "import glob\n",
    "import pandas as pd\n",
    "from bs4 import BeautifulSoup\n"
   ]
  },
  {
   "cell_type": "code",
   "execution_count": 20,
   "metadata": {},
   "outputs": [],
   "source": [
    "def get_attr_from_tag(content, attribute:str)->str:\n",
    "    if isinstance(content, str):\n",
    "        tag = BeautifulSoup(content, 'html.parser').b\n",
    "    else:\n",
    "        tag = content\n",
    "    return tag[attribute]\n",
    "\n",
    "def clean_title(title:str)->str:\n",
    "    cleaned = title.replace('&amp;', '&')\n",
    "    return cleaned\n",
    "\n",
    "def get_date_from_tag(content)->str:\n",
    "    attr_val = get_attr_from_tag(content, attribute='href')\n",
    "    date = attr_val.split('/')[1]\n",
    "    return date\n",
    "\n",
    "def get_url_from_tag(content)->str:\n",
    "    attr_val = get_attr_from_tag(content, attribute='href')\n",
    "    local_path = attr_val\n",
    "    url = 'https://sputnikglobe.com' + local_path\n",
    "    return url\n",
    "\n",
    "def get_title_from_tag(content)->str:\n",
    "    attr_val = get_attr_from_tag(content, attribute='title')\n",
    "    title = clean_title(attr_val)\n",
    "    return title"
   ]
  },
  {
   "cell_type": "code",
   "execution_count": 11,
   "metadata": {},
   "outputs": [],
   "source": [
    "results_paths = glob.glob(pathname='../data/results_*.txt')"
   ]
  },
  {
   "cell_type": "code",
   "execution_count": 22,
   "metadata": {},
   "outputs": [],
   "source": [
    "data_dict = {'date':[], 'url':[], 'title':[]}\n",
    "for result_path in results_paths:\n",
    "    with open(file=result_path, mode='r', encoding='utf-8') as f:\n",
    "        soup = BeautifulSoup(f.read())\n",
    "    results = soup.find_all(name='a', attrs={'href':True, 'title':True, 'class':False})\n",
    "    for result in results:\n",
    "        data_dict['date'].append(get_date_from_tag(result))\n",
    "        data_dict['url'].append(get_url_from_tag(result))\n",
    "        data_dict['title'].append(get_title_from_tag(result))\n",
    "df = pd.DataFrame(data_dict)"
   ]
  },
  {
   "cell_type": "code",
   "execution_count": 25,
   "metadata": {},
   "outputs": [
    {
     "name": "stdout",
     "output_type": "stream",
     "text": [
      "4503\n"
     ]
    },
    {
     "data": {
      "text/html": [
       "<div>\n",
       "<style scoped>\n",
       "    .dataframe tbody tr th:only-of-type {\n",
       "        vertical-align: middle;\n",
       "    }\n",
       "\n",
       "    .dataframe tbody tr th {\n",
       "        vertical-align: top;\n",
       "    }\n",
       "\n",
       "    .dataframe thead th {\n",
       "        text-align: right;\n",
       "    }\n",
       "</style>\n",
       "<table border=\"1\" class=\"dataframe\">\n",
       "  <thead>\n",
       "    <tr style=\"text-align: right;\">\n",
       "      <th></th>\n",
       "      <th>date</th>\n",
       "      <th>url</th>\n",
       "      <th>title</th>\n",
       "    </tr>\n",
       "  </thead>\n",
       "  <tbody>\n",
       "    <tr>\n",
       "      <th>4498</th>\n",
       "      <td>20210901</td>\n",
       "      <td>https://sputnikglobe.com/20210901/senior-fda-v...</td>\n",
       "      <td>Senior FDA Vaccine Officials Resign Amid Repor...</td>\n",
       "    </tr>\n",
       "    <tr>\n",
       "      <th>4499</th>\n",
       "      <td>20210901</td>\n",
       "      <td>https://sputnikglobe.com/20210901/indian-state...</td>\n",
       "      <td>Indian State Orders Probe as Spreading 'Myster...</td>\n",
       "    </tr>\n",
       "    <tr>\n",
       "      <th>4500</th>\n",
       "      <td>20210901</td>\n",
       "      <td>https://sputnikglobe.com/20210901/israeli-stat...</td>\n",
       "      <td>Israeli State Comptroller Slams Netanyahu's CO...</td>\n",
       "    </tr>\n",
       "    <tr>\n",
       "      <th>4501</th>\n",
       "      <td>20210901</td>\n",
       "      <td>https://sputnikglobe.com/20210901/norway-sees-...</td>\n",
       "      <td>Norway Sees Record COVID-19 Infection Rates De...</td>\n",
       "    </tr>\n",
       "    <tr>\n",
       "      <th>4502</th>\n",
       "      <td>20210901</td>\n",
       "      <td>https://sputnikglobe.com/20210901/live-updates...</td>\n",
       "      <td>Live Updates: Ireland to Lift Most COVID-19 Re...</td>\n",
       "    </tr>\n",
       "  </tbody>\n",
       "</table>\n",
       "</div>"
      ],
      "text/plain": [
       "          date                                                url  \\\n",
       "4498  20210901  https://sputnikglobe.com/20210901/senior-fda-v...   \n",
       "4499  20210901  https://sputnikglobe.com/20210901/indian-state...   \n",
       "4500  20210901  https://sputnikglobe.com/20210901/israeli-stat...   \n",
       "4501  20210901  https://sputnikglobe.com/20210901/norway-sees-...   \n",
       "4502  20210901  https://sputnikglobe.com/20210901/live-updates...   \n",
       "\n",
       "                                                  title  \n",
       "4498  Senior FDA Vaccine Officials Resign Amid Repor...  \n",
       "4499  Indian State Orders Probe as Spreading 'Myster...  \n",
       "4500  Israeli State Comptroller Slams Netanyahu's CO...  \n",
       "4501  Norway Sees Record COVID-19 Infection Rates De...  \n",
       "4502  Live Updates: Ireland to Lift Most COVID-19 Re...  "
      ]
     },
     "execution_count": 25,
     "metadata": {},
     "output_type": "execute_result"
    }
   ],
   "source": [
    "print(df.shape[0])\n",
    "df.tail()"
   ]
  },
  {
   "cell_type": "code",
   "execution_count": 26,
   "metadata": {},
   "outputs": [],
   "source": [
    "df.to_csv('../data/results_sputnikglobe_20201201_20211130.csv')"
   ]
  },
  {
   "cell_type": "markdown",
   "metadata": {},
   "source": [
    "# Scraping Content from Results\n",
    "\n",
    "This section will be used to parse the results file in `data/` and create a csv with the required outputs."
   ]
  },
  {
   "cell_type": "code",
   "execution_count": null,
   "metadata": {},
   "outputs": [],
   "source": [
    "from selenium import webdriver\n",
    "from selenium.common.exceptions import NoSuchElementException, WebDriverException\n",
    "import numpy as np\n",
    "import time"
   ]
  },
  {
   "cell_type": "markdown",
   "metadata": {},
   "source": [
    "## Sputnik Globe"
   ]
  },
  {
   "cell_type": "code",
   "execution_count": 49,
   "metadata": {},
   "outputs": [],
   "source": [
    "# Get urls\n",
    "df = pd.read_csv('../data/results_sputnikglobe_20201201_20211130.csv')\n",
    "\n",
    "# Set sleep times\n",
    "mu, sigma = 0.5, 1. # mean and standard deviation\n",
    "s = np.random.lognormal(mu, sigma, df.shape[0])"
   ]
  },
  {
   "cell_type": "code",
   "execution_count": 60,
   "metadata": {},
   "outputs": [
    {
     "name": "stdout",
     "output_type": "stream",
     "text": [
      "0.0% completed...\n",
      "[WARNING] Some text was not pulled\n"
     ]
    }
   ],
   "source": [
    "text = []\n",
    "pull_time = []\n",
    "keywords = []\n",
    "analytics_keywords = []\n",
    "\n",
    "# Initialize driver\n",
    "driver = webdriver.Firefox()\n",
    "\n",
    "# on by one, visit site, pull source, and store tags of interest\n",
    "for i, row in enumerate(['https://sputnikglobe.com/20210430/albania-approves-use-of-russian-covid-19-vaccine-sputnik-v-1082773076.html']):#enumerate(df['url']):\n",
    "    pull_time.append(time.strftime('%Y-%m-%dT%H:%M:%S', time.gmtime()))\n",
    "    try:\n",
    "        driver.get(row)\n",
    "    except WebDriverException as e:\n",
    "        text.append(f'[ERROR] The url is not reachable at this time.')\n",
    "        keywords.append(f'[ERROR] The url is not reachable at this time.')\n",
    "        analytics_keywords.append(f'[ERROR] The url is not reachable at this time.')\n",
    "        continue\n",
    "    soup = BeautifulSoup(driver.page_source)\n",
    "    url_keywords = soup.find(name='meta', attrs={'name':'keywords'})\n",
    "    keywords.append(url_keywords['content'])\n",
    "    url_analytics_keywords = soup.find(name='meta', attrs={'name':'analytics:keyw'})\n",
    "    analytics_keywords.append(url_analytics_keywords['content'])\n",
    "    text_header = soup.find(name='div', attrs={'class':'article__announce-text'})\n",
    "    text_body = soup.find(name='div', attrs={'class':'article__body'})\n",
    "    text.append(text_header.text + text_body.text)\n",
    "    if i%200 == 0:\n",
    "        print(f'{i/df.shape[0]}% completed...')\n",
    "    time.sleep(s[i])\n",
    "    break\n",
    "driver.quit()\n",
    "\n",
    "# Add rows to dataframe\n",
    "if len(text) == df.shape[0]:\n",
    "    df['text'] = text\n",
    "    df['pull_time'] = pull_time\n",
    "    df['keywords'] = keywords\n",
    "    df['analytics_keywords'] = analytics_keywords\n",
    "else:\n",
    "    print('[WARNING] Some text was not pulled')"
   ]
  },
  {
   "cell_type": "code",
   "execution_count": 65,
   "metadata": {},
   "outputs": [
    {
     "data": {
      "text/plain": [
       "['news, world, tag_RussianDirectInvestmentFundRDIF, geo_Russia, tag_Albania, keyword_vaccination, covid-19, sputnik-v']"
      ]
     },
     "execution_count": 65,
     "metadata": {},
     "output_type": "execute_result"
    }
   ],
   "source": [
    "analytics_keywords"
   ]
  },
  {
   "cell_type": "markdown",
   "metadata": {},
   "source": [
    "analytics = '''<meta name=\"analytics:keyw\" content=\"military, news, tag_JoeBiden, organization_US_military\">'''\n",
    "keywords = '''<meta name=\"keywords\" content=\"military &amp; intelligence, newsfeed, joe biden, us military\">'''\n",
    "google_tags = '''<script type=\"text/javascript\" id=\"\" charset=\"\">ym(google_tag_manager[\"rm\"][\"11997873\"](44),\"params\",{tags:{1082775132:[\"Military \\x26 Intelligence, Newsfeed, Joe Biden, US military, COVID-19, Vaccines, US soldiers, mandate\"]}});</script>'''"
   ]
  },
  {
   "cell_type": "code",
   "execution_count": 45,
   "metadata": {},
   "outputs": [],
   "source": [
    "with open('../data/sputnik_example_1.txt', mode='r', encoding='utf-8') as f:\n",
    "    soup = BeautifulSoup(f.read())"
   ]
  },
  {
   "cell_type": "code",
   "execution_count": null,
   "metadata": {},
   "outputs": [
    {
     "data": {
      "image/png": "[encoded data removed]",
      "text/plain": [
       "<Figure size 640x480 with 1 Axes>"
      ]
     },
     "metadata": {},
     "output_type": "display_data"
    }
   ],
   "source": [
    "import matplotlib.pyplot as plt\n",
    "count, bins, ignored = plt.hist(s, 600, density=True, align='mid')\n",
    "\n",
    "x = np.linspace(min(bins), max(bins), 10000)\n",
    "pdf = (np.exp(-(np.log(x) - mu)**2 / (2 * sigma**2))\n",
    "       / (x * sigma * np.sqrt(2 * np.pi)))\n",
    "\n",
    "plt.plot(x, pdf, linewidth=2, color='r')\n",
    "plt.axis('tight')\n",
    "plt.show()"
   ]
  },
  {
   "cell_type": "code",
   "execution_count": 14,
   "metadata": {},
   "outputs": [
    {
     "data": {
      "text/plain": [
       "array([ 32.01978844, 108.84172139,  18.93182656,  10.0176788 ,\n",
       "        17.00597689,   8.75356768,   5.75493506,  19.45755798,\n",
       "        12.43707248,  67.11591437])"
      ]
     },
     "execution_count": 14,
     "metadata": {},
     "output_type": "execute_result"
    }
   ],
   "source": [
    "s[:10]"
   ]
  },
  {
   "cell_type": "markdown",
   "metadata": {},
   "source": [
    "Weird-looking urls: \n",
    "- [text in a box](https://sputnikglobe.com/20210825/live-updates-16-evacuees-from-afghanistan-test-positive-for-covid-19-in-india-as-delta-cases-rise-1083705747.html)\n",
    "- [multiple texts in box](https://sputnikglobe.com/20210824/live-updates-india-covid-19-cases-rise-to-3247-million-1083697851.html)\n",
    "- [tweets](https://sputnikglobe.com/20210823/seven-members-of-dalit-family-in-india-severely-beaten-over-black-magic-allegation-1083692603.html)"
   ]
  }
 ],
 "metadata": {
  "kernelspec": {
   "display_name": ".venv",
   "language": "python",
   "name": "python3"
  },
  "language_info": {
   "codemirror_mode": {
    "name": "ipython",
    "version": 3
   },
   "file_extension": ".py",
   "mimetype": "text/x-python",
   "name": "python",
   "nbconvert_exporter": "python",
   "pygments_lexer": "ipython3",
   "version": "3.12.3"
  }
 },
 "nbformat": 4,
 "nbformat_minor": 2
}
