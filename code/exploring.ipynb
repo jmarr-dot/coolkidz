{
 "cells": [
  {
   "cell_type": "markdown",
   "metadata": {},
   "source": [
    "# Scraping Content from Results\n",
    "\n",
    "This section will be used to parse the results file in `data/` and create a csv with the required outputs."
   ]
  },
  {
   "cell_type": "code",
   "execution_count": 1,
   "metadata": {},
   "outputs": [],
   "source": [
    "import numpy as np\n",
    "import pandas as pd\n",
    "import time\n",
    "from bs4 import BeautifulSoup\n",
    "from selenium import webdriver\n",
    "from selenium.common.exceptions import WebDriverException"
   ]
  },
  {
   "cell_type": "markdown",
   "metadata": {},
   "source": [
    "# Actualidad"
   ]
  },
  {
   "cell_type": "code",
   "execution_count": 11,
   "metadata": {},
   "outputs": [],
   "source": [
    "with open('../data/actualidad_example_4.txt', mode='r', encoding='utf-8') as f:\n",
    "    soup = BeautifulSoup(f.read())"
   ]
  },
  {
   "cell_type": "code",
   "execution_count": null,
   "metadata": {},
   "outputs": [
    {
     "data": {
      "text/plain": [
       "'El presidente de Rusia, Vladímir Putin, se mostró este miércoles a favor de desarrollar un proceso para reconocer mutuamente los certificados de vacunación contra el coronavirus de los diferentes países de mundo, informa Interfax.\"Rusia procura aportar una auténtica contribución a la solución del problema de garantizar el acceso libre y no discriminatorio a las vacunas contra el covid-19 para los ciudadanos de todos los países. Abogamos por el desarrollo de un procedimiento de reconocimiento mutuo de los certificados de vacunación\", dijo el mandatario en su discurso con motivo de la cumbre de Asia Oriental. Read moreMinisterio de Salud de Rusia: Se han eliminado todas las barreras para el registro de la Sputnik V en la OMSSegún estima Putin, en las condiciones actuales, la libertad de movimiento se hace prácticamente imposible sin ese reconocimiento de los certificados de inoculación.En este contexto, recordó que el uso de la vacuna rusa Sputnik V ya ha sido aprobado en 70 países del mundo. \"Doy las gracias a muchos de los socios de la región Asia-Pacífico por el trabajo común en la localización de la producción de las vacunas\", expresó.Asimismo, sugirió ampliar el programa de capacitación de especialistas y epidemiólogos de los países de la Asociación de Naciones del Sureste Asiático (ASEAN, por sus siglas en inglés) en el marco con cursos de especialización que tendrían lugar en noviembre y diciembre de este año.'"
      ]
     },
     "execution_count": 13,
     "metadata": {},
     "output_type": "execute_result"
    }
   ],
   "source": [
    "text = soup.find(name='div', attrs={'class':'Text-root Text-type_5 ArticleView-text ViewText-root'})\n",
    "if not text:\n",
    "    text = soup.find(name='div', attrs={'class':'amp-pages__text text', 'itemprop':'articleBody'})\n",
    "text.text"
   ]
  },
  {
   "cell_type": "code",
   "execution_count": null,
   "metadata": {},
   "outputs": [
    {
     "data": {
      "text/plain": [
       "['Coronavirus', 'Enfermedades', 'Reino Unido', 'internacional']"
      ]
     },
     "execution_count": 170,
     "metadata": {},
     "output_type": "execute_result"
    }
   ],
   "source": [
    "# tags = soup.find(name='ul', attrs={'class':'Tags-list Tags-default'})\n",
    "tags = soup.find_all(name='a', attrs={'class':'Tags-link'})\n",
    "[tag.text for tag in tags]"
   ]
  },
  {
   "cell_type": "code",
   "execution_count": null,
   "metadata": {},
   "outputs": [
    {
     "data": {
      "image/png": "[encoded data removed]",
      "text/plain": [
       "<Figure size 640x480 with 1 Axes>"
      ]
     },
     "metadata": {},
     "output_type": "display_data"
    }
   ],
   "source": [
    "# Get urls\n",
    "df = pd.read_csv('../data/gdelt_actualidad_20201201_20211130.csv')\n",
    "df['text'] = None\n",
    "df['pull_time'] = None\n",
    "df['tags'] = None\n",
    "\n",
    "# Set sleep times\n",
    "mu, sigma = 0.5, 1. # mean and standard deviation\n",
    "s = np.random.lognormal(mu, sigma, df.shape[0])\n",
    "\n",
    "# Optionally plot sleep times\n",
    "def plot_sleep_times(s=s):\n",
    "    import matplotlib.pyplot as plt\n",
    "    count, bins, ignored = plt.hist(s, 600, density=True, align='mid')\n",
    "\n",
    "    x = np.linspace(min(bins), max(bins), 10000)\n",
    "    pdf = (np.exp(-(np.log(x) - mu)**2 / (2 * sigma**2))\n",
    "        / (x * sigma * np.sqrt(2 * np.pi)))\n",
    "\n",
    "    plt.plot(x, pdf, linewidth=2, color='r')\n",
    "    plt.axis('tight')\n",
    "    plt.show()\n",
    "    return\n",
    "if False:\n",
    "    plot_sleep_times()"
   ]
  },
  {
   "cell_type": "code",
   "execution_count": 4,
   "metadata": {},
   "outputs": [],
   "source": [
    "def refresh_driver(driver:webdriver.Firefox=None, e:Exception=None):\n",
    "    if e:\n",
    "        print(f'Refreshing driver after exception {e}.')\n",
    "    else:\n",
    "        print('Refreshing driver.')\n",
    "    if driver:\n",
    "        try:\n",
    "            driver.quit()\n",
    "        except WebDriverException as e:\n",
    "            print('No driver to quit.')\n",
    "    new_driver = webdriver.Firefox()\n",
    "    return new_driver"
   ]
  },
  {
   "cell_type": "code",
   "execution_count": 14,
   "metadata": {},
   "outputs": [
    {
     "name": "stdout",
     "output_type": "stream",
     "text": [
      "Refreshing driver.\n",
      "Expected time to completion: 2.5143004661216546 seconds\n",
      "0% of 1 completed...\n",
      "[SUCCESS] Results were saved to \"../data/actualidad_full_results_<date>.csv\".\n"
     ]
    }
   ],
   "source": [
    "# Initialize driver\n",
    "driver = refresh_driver()\n",
    "\n",
    "# filter out the urls that have successfully been pulled already and store in temporary dataframe\n",
    "temp_df = df.loc[(df['text'].isna()) | (df['pull_time'].isna()) | (df['tags'].isna())]\n",
    "print(f'Expected time to completion: {sum(s[:temp_df.shape[0]])} seconds')\n",
    "\n",
    "# on by one, visit site, pull source, and store tags of interest in the original dataframe\n",
    "for i, row_url in enumerate(temp_df['url']):\n",
    "    df_index = df.loc[df['url']==row_url].index.values[0]\n",
    "    df.at[df_index, 'pull_time'] = time.strftime('%Y-%m-%dT%H:%M:%S', time.gmtime())\n",
    "    try:\n",
    "        driver.get(row_url)\n",
    "    except WebDriverException as e:\n",
    "        df.at[df_index, 'text'] = f'[ERROR] The url is not reachable at this time.'\n",
    "        df.at[df_index, 'tags'] = f'[ERROR] The url is not reachable at this time.'\n",
    "        driver = refresh_driver(driver=driver, e=e)\n",
    "        continue\n",
    "    soup = BeautifulSoup(driver.page_source)\n",
    "\n",
    "    # Get tags\n",
    "    tags = soup.find_all(name='a', attrs={'class':'Tags-link'})    \n",
    "    if tags:\n",
    "        df.at[df_index, 'tags'] = [tag.text for tag in tags]\n",
    "    else:\n",
    "        df.at[df_index, 'tags'] = 'No tags found.'\n",
    "\n",
    "    # Get text\n",
    "    text = soup.find(name='div', attrs={'class':'Text-root Text-type_5 ArticleView-text ViewText-root'})\n",
    "    if not text:    \n",
    "        text = soup.find(name='div', attrs={'class':'amp-pages__text text', 'itemprop':'articleBody'})\n",
    "    if text:\n",
    "        df.at[df_index, 'text'] = text.text\n",
    "    \n",
    "    # Track Progress\n",
    "    if i%300 == 0:\n",
    "        print(f'{round(i/temp_df.shape[0]*100)}% of {temp_df.shape[0]} completed...')\n",
    "        if i != 0:\n",
    "            driver = refresh_driver(driver=driver)\n",
    "    time.sleep(s[i])\n",
    "driver.quit()\n",
    "if sum(df['text'].isna()) or sum(df['pull_time'].isna()) or sum(df['tags'].isna()):\n",
    "    df.to_csv(f'../temp/actualidad_partial_results_{time.strftime('%Y_%m_%d_%H%M%S', time.gmtime())}.csv', index=False)\n",
    "    df.to_csv(f'../temp/actualidad_partial_results_latest.csv', index=False)\n",
    "    print('[WARNING] Some results were not pulled. Partial results were saved to \"../temp/actualidad_partial_results_latest.csv\". Please run this cell again after correcting the errors.')\n",
    "else:\n",
    "    df.to_csv(f'../data/actualidad_full_results_{time.strftime('%Y_%m_%d_%H%M%S', time.gmtime())}.csv', index=False)\n",
    "    print('[SUCCESS] Results were saved to \"../data/actualidad_full_results_<date>.csv\".')\n"
   ]
  },
  {
   "cell_type": "code",
   "execution_count": 7,
   "metadata": {},
   "outputs": [
    {
     "data": {
      "text/html": [
       "<div>\n",
       "<style scoped>\n",
       "    .dataframe tbody tr th:only-of-type {\n",
       "        vertical-align: middle;\n",
       "    }\n",
       "\n",
       "    .dataframe tbody tr th {\n",
       "        vertical-align: top;\n",
       "    }\n",
       "\n",
       "    .dataframe thead th {\n",
       "        text-align: right;\n",
       "    }\n",
       "</style>\n",
       "<table border=\"1\" class=\"dataframe\">\n",
       "  <thead>\n",
       "    <tr style=\"text-align: right;\">\n",
       "      <th></th>\n",
       "      <th>text</th>\n",
       "      <th>size</th>\n",
       "    </tr>\n",
       "  </thead>\n",
       "  <tbody>\n",
       "    <tr>\n",
       "      <th>80</th>\n",
       "      <td>Brasil aplicó este domingo su primera vacuna c...</td>\n",
       "      <td>2</td>\n",
       "    </tr>\n",
       "    <tr>\n",
       "      <th>1136</th>\n",
       "      <td>La vacuna rusa Sputnik V garantiza una inmunid...</td>\n",
       "      <td>2</td>\n",
       "    </tr>\n",
       "  </tbody>\n",
       "</table>\n",
       "</div>"
      ],
      "text/plain": [
       "                                                   text  size\n",
       "80    Brasil aplicó este domingo su primera vacuna c...     2\n",
       "1136  La vacuna rusa Sputnik V garantiza una inmunid...     2"
      ]
     },
     "execution_count": 7,
     "metadata": {},
     "output_type": "execute_result"
    }
   ],
   "source": [
    "dup_counts = df.groupby(['text'], as_index=False, dropna=False).size().sort_values('size')\n",
    "dups = dup_counts.loc[dup_counts['size']>1]\n",
    "dups"
   ]
  },
  {
   "cell_type": "markdown",
   "metadata": {},
   "source": [
    "## Sputnik Globe"
   ]
  },
  {
   "cell_type": "code",
   "execution_count": null,
   "metadata": {},
   "outputs": [],
   "source": [
    "# Get urls\n",
    "df = pd.read_csv('../data/results_sputnikglobe_20201201_20211130.csv')\n",
    "df['text'] = None\n",
    "df['pull_time'] = None\n",
    "df['keywords'] = None\n",
    "df['analytics_keywords'] = None\n",
    "\n",
    "# Set sleep times\n",
    "mu, sigma = 0.5, 1. # mean and standard deviation\n",
    "s = np.random.lognormal(mu, sigma, df.shape[0])\n",
    "\n",
    "# Optionally plot sleep times\n",
    "def plot_sleep_times(s=s):\n",
    "    import matplotlib.pyplot as plt\n",
    "    count, bins, ignored = plt.hist(s, 600, density=True, align='mid')\n",
    "\n",
    "    x = np.linspace(min(bins), max(bins), 10000)\n",
    "    pdf = (np.exp(-(np.log(x) - mu)**2 / (2 * sigma**2))\n",
    "        / (x * sigma * np.sqrt(2 * np.pi)))\n",
    "\n",
    "    plt.plot(x, pdf, linewidth=2, color='r')\n",
    "    plt.axis('tight')\n",
    "    plt.show()\n",
    "    return\n",
    "if False:\n",
    "    plot_sleep_times()"
   ]
  },
  {
   "cell_type": "code",
   "execution_count": null,
   "metadata": {},
   "outputs": [
    {
     "name": "stdout",
     "output_type": "stream",
     "text": [
      "[SUCCESS] Results were saved to \"../data/sputnik_full_results_<date>.csv\".\n"
     ]
    }
   ],
   "source": [
    "# Initialize driver\n",
    "driver = refresh_driver()\n",
    "\n",
    "# filter out the urls that have successfully been pulled already and store in temporary dataframe\n",
    "temp_df = df.loc[(df['text'].isna()) | (df['pull_time'].isna()) | (df['keywords'].isna()) | (df['analytics_keywords'].isna())]\n",
    "\n",
    "# on by one, visit site, pull source, and store tags of interest in the original dataframe\n",
    "for i, row_url in enumerate(temp_df['url']):\n",
    "    df_index = df.loc[df['url']==row_url].index.values[0]\n",
    "    df.at[df_index, 'pull_time'] = time.strftime('%Y-%m-%dT%H:%M:%S', time.gmtime())\n",
    "    try:\n",
    "        driver.get(row_url)\n",
    "    except WebDriverException as e:\n",
    "        df.at[df_index, 'text'] = f'[ERROR] The url is not reachable at this time.'\n",
    "        df.at[df_index, 'keywords'] = f'[ERROR] The url is not reachable at this time.'\n",
    "        df.at[df_index, 'analytics_keywords'] = f'[ERROR] The url is not reachable at this time.'\n",
    "        driver = refresh_driver(driver=driver, e=e)\n",
    "        continue\n",
    "    soup = BeautifulSoup(driver.page_source)\n",
    "    url_keywords = soup.find(name='meta', attrs={'name':'keywords'})\n",
    "    if url_keywords:\n",
    "        df.at[df_index, 'keywords'] = url_keywords['content']\n",
    "    else:\n",
    "        df.at[df_index, 'keywords'] = 'No keywords found.'\n",
    "    url_analytics_keywords = soup.find(name='meta', attrs={'name':'analytics:keyw'})\n",
    "    if url_analytics_keywords:\n",
    "        df.at[df_index, 'analytics_keywords'] = url_analytics_keywords['content']\n",
    "    else:\n",
    "        df.at[df_index, 'analytics_keywords'] = 'No analytics keywords found.'\n",
    "    text_header = soup.find(name='div', attrs={'class':'article__announce-text'})\n",
    "    text_body = soup.find(name='div', attrs={'class':'article__body'})\n",
    "    if text_header:\n",
    "        text = text_header.text\n",
    "    else:\n",
    "        text = ''\n",
    "    if text_body:\n",
    "        text += text_body.text\n",
    "    df.at[df_index, 'text'] = text\n",
    "    if i%300 == 0:\n",
    "        print(f'{round(i/temp_df.shape[0]*100)}% of {temp_df.shape[0]} completed...')\n",
    "        driver = refresh_driver(driver=driver)\n",
    "    time.sleep(s[i])\n",
    "driver.quit()\n",
    "if sum(df['text'].isna()) or sum(df['pull_time'].isna()) or sum(df['keywords'].isna()):\n",
    "    df.drop('Unnamed: 0', axis=1).to_csv(f'../data/sputnik_partial_results_{time.strftime('%Y_%m_%d_%H%M%S', time.gmtime())}.csv', index=False)\n",
    "    print('[WARNING] Some results were not pulled. Partial results were saved to \"../data/sputnik_partial_results_<date>.csv\". Please run this cell again after correcting the errors.')\n",
    "else:\n",
    "    df.drop('Unnamed: 0', axis=1).to_csv(f'../data/sputnik_full_results_{time.strftime('%Y_%m_%d_%H%M%S', time.gmtime())}.csv', index=False)\n",
    "    print('[SUCCESS] Results were saved to \"../data/sputnik_full_results_<date>.csv\".')\n"
   ]
  },
  {
   "cell_type": "markdown",
   "metadata": {},
   "source": [
    "Checking to see if things look okay."
   ]
  },
  {
   "cell_type": "code",
   "execution_count": 142,
   "metadata": {},
   "outputs": [
    {
     "data": {
      "text/html": [
       "<div>\n",
       "<style scoped>\n",
       "    .dataframe tbody tr th:only-of-type {\n",
       "        vertical-align: middle;\n",
       "    }\n",
       "\n",
       "    .dataframe tbody tr th {\n",
       "        vertical-align: top;\n",
       "    }\n",
       "\n",
       "    .dataframe thead th {\n",
       "        text-align: right;\n",
       "    }\n",
       "</style>\n",
       "<table border=\"1\" class=\"dataframe\">\n",
       "  <thead>\n",
       "    <tr style=\"text-align: right;\">\n",
       "      <th></th>\n",
       "      <th>Unnamed: 0</th>\n",
       "      <th>date</th>\n",
       "      <th>url</th>\n",
       "      <th>title</th>\n",
       "      <th>text</th>\n",
       "      <th>pull_time</th>\n",
       "      <th>keywords</th>\n",
       "      <th>analytics_keywords</th>\n",
       "    </tr>\n",
       "  </thead>\n",
       "  <tbody>\n",
       "    <tr>\n",
       "      <th>0</th>\n",
       "      <td>0</td>\n",
       "      <td>20210430</td>\n",
       "      <td>https://sputnikglobe.com/20210430/biden-us-mil...</td>\n",
       "      <td>Biden: US Military Brass Will Decide Whether t...</td>\n",
       "      <td>Since the onset of the COVID-19 pandemic, the ...</td>\n",
       "      <td>2025-04-12T21:46:33</td>\n",
       "      <td>military &amp; intelligence, newsfeed, joe biden, ...</td>\n",
       "      <td>military, news, tag_JoeBiden, organization_US_...</td>\n",
       "    </tr>\n",
       "    <tr>\n",
       "      <th>1</th>\n",
       "      <td>1</td>\n",
       "      <td>20210430</td>\n",
       "      <td>https://sputnikglobe.com/20210430/russian-vacc...</td>\n",
       "      <td>Russian Vaccines Protect From All Known Strain...</td>\n",
       "      <td>MOSCOW (Sputnik) - The immunity developed afte...</td>\n",
       "      <td>2025-04-13T22:51:48</td>\n",
       "      <td>newsfeed, russia</td>\n",
       "      <td>news, world, russia, geo_Russia, covid-19, key...</td>\n",
       "    </tr>\n",
       "    <tr>\n",
       "      <th>2</th>\n",
       "      <td>2</td>\n",
       "      <td>20210430</td>\n",
       "      <td>https://sputnikglobe.com/20210430/hope-theres-...</td>\n",
       "      <td>‘Hope There's No Quid Pro Quo’: Is US Expectin...</td>\n",
       "      <td>The US said on Thursday that it would send med...</td>\n",
       "      <td>2025-04-12T21:46:50</td>\n",
       "      <td>newsfeed, china, joe biden, afghanistan, us</td>\n",
       "      <td>world, news, geo_China, tag_JoeBiden, covid-19...</td>\n",
       "    </tr>\n",
       "    <tr>\n",
       "      <th>3</th>\n",
       "      <td>3</td>\n",
       "      <td>20210430</td>\n",
       "      <td>https://sputnikglobe.com/20210430/albania-appr...</td>\n",
       "      <td>Albania Approves Use of Russian COVID-19 Vacci...</td>\n",
       "      <td>MOSCOW (Sputnik) - Albania has approved the us...</td>\n",
       "      <td>2025-04-12T21:46:54</td>\n",
       "      <td>newsfeed, russian direct investment fund (rdif...</td>\n",
       "      <td>news, world, tag_RussianDirectInvestmentFundRD...</td>\n",
       "    </tr>\n",
       "    <tr>\n",
       "      <th>4</th>\n",
       "      <td>4</td>\n",
       "      <td>20210430</td>\n",
       "      <td>https://sputnikglobe.com/20210430/yogi-adityan...</td>\n",
       "      <td>Will Yogi Adityanath Fight Back After Supreme ...</td>\n",
       "      <td>The Indian government, led by Prime Minister N...</td>\n",
       "      <td>2025-04-12T21:47:01</td>\n",
       "      <td>newsfeed, indians, coronavirus, supreme court,...</td>\n",
       "      <td>news, world, keyword_Indians, organization_Ind...</td>\n",
       "    </tr>\n",
       "  </tbody>\n",
       "</table>\n",
       "</div>"
      ],
      "text/plain": [
       "   Unnamed: 0      date                                                url  \\\n",
       "0           0  20210430  https://sputnikglobe.com/20210430/biden-us-mil...   \n",
       "1           1  20210430  https://sputnikglobe.com/20210430/russian-vacc...   \n",
       "2           2  20210430  https://sputnikglobe.com/20210430/hope-theres-...   \n",
       "3           3  20210430  https://sputnikglobe.com/20210430/albania-appr...   \n",
       "4           4  20210430  https://sputnikglobe.com/20210430/yogi-adityan...   \n",
       "\n",
       "                                               title  \\\n",
       "0  Biden: US Military Brass Will Decide Whether t...   \n",
       "1  Russian Vaccines Protect From All Known Strain...   \n",
       "2  ‘Hope There's No Quid Pro Quo’: Is US Expectin...   \n",
       "3  Albania Approves Use of Russian COVID-19 Vacci...   \n",
       "4  Will Yogi Adityanath Fight Back After Supreme ...   \n",
       "\n",
       "                                                text            pull_time  \\\n",
       "0  Since the onset of the COVID-19 pandemic, the ...  2025-04-12T21:46:33   \n",
       "1  MOSCOW (Sputnik) - The immunity developed afte...  2025-04-13T22:51:48   \n",
       "2  The US said on Thursday that it would send med...  2025-04-12T21:46:50   \n",
       "3  MOSCOW (Sputnik) - Albania has approved the us...  2025-04-12T21:46:54   \n",
       "4  The Indian government, led by Prime Minister N...  2025-04-12T21:47:01   \n",
       "\n",
       "                                            keywords  \\\n",
       "0  military & intelligence, newsfeed, joe biden, ...   \n",
       "1                                   newsfeed, russia   \n",
       "2        newsfeed, china, joe biden, afghanistan, us   \n",
       "3  newsfeed, russian direct investment fund (rdif...   \n",
       "4  newsfeed, indians, coronavirus, supreme court,...   \n",
       "\n",
       "                                  analytics_keywords  \n",
       "0  military, news, tag_JoeBiden, organization_US_...  \n",
       "1  news, world, russia, geo_Russia, covid-19, key...  \n",
       "2  world, news, geo_China, tag_JoeBiden, covid-19...  \n",
       "3  news, world, tag_RussianDirectInvestmentFundRD...  \n",
       "4  news, world, keyword_Indians, organization_Ind...  "
      ]
     },
     "execution_count": 142,
     "metadata": {},
     "output_type": "execute_result"
    }
   ],
   "source": [
    "df.head()"
   ]
  },
  {
   "cell_type": "markdown",
   "metadata": {},
   "source": [
    "Checking for duplicates"
   ]
  },
  {
   "cell_type": "code",
   "execution_count": 152,
   "metadata": {},
   "outputs": [
    {
     "data": {
      "text/html": [
       "<div>\n",
       "<style scoped>\n",
       "    .dataframe tbody tr th:only-of-type {\n",
       "        vertical-align: middle;\n",
       "    }\n",
       "\n",
       "    .dataframe tbody tr th {\n",
       "        vertical-align: top;\n",
       "    }\n",
       "\n",
       "    .dataframe thead th {\n",
       "        text-align: right;\n",
       "    }\n",
       "</style>\n",
       "<table border=\"1\" class=\"dataframe\">\n",
       "  <thead>\n",
       "    <tr style=\"text-align: right;\">\n",
       "      <th></th>\n",
       "      <th>text</th>\n",
       "      <th>keywords</th>\n",
       "      <th>analytics_keywords</th>\n",
       "      <th>size</th>\n",
       "    </tr>\n",
       "  </thead>\n",
       "  <tbody>\n",
       "    <tr>\n",
       "      <th>2021</th>\n",
       "      <td>MOSCOW (Sputnik) - The Russian coronavirus Epi...</td>\n",
       "      <td>newsfeed, russia, rospotrebnadzor</td>\n",
       "      <td>russia, world, news, geo_Russia, tag_Rospotreb...</td>\n",
       "      <td>2</td>\n",
       "    </tr>\n",
       "  </tbody>\n",
       "</table>\n",
       "</div>"
      ],
      "text/plain": [
       "                                                   text  \\\n",
       "2021  MOSCOW (Sputnik) - The Russian coronavirus Epi...   \n",
       "\n",
       "                               keywords  \\\n",
       "2021  newsfeed, russia, rospotrebnadzor   \n",
       "\n",
       "                                     analytics_keywords  size  \n",
       "2021  russia, world, news, geo_Russia, tag_Rospotreb...     2  "
      ]
     },
     "execution_count": 152,
     "metadata": {},
     "output_type": "execute_result"
    }
   ],
   "source": [
    "dup_counts = df.groupby(['text', 'keywords', 'analytics_keywords'], as_index=False, dropna=False).size().sort_values('size')\n",
    "dups = dup_counts.loc[dup_counts['size']>1]\n",
    "dups"
   ]
  },
  {
   "cell_type": "markdown",
   "metadata": {},
   "source": [
    "Use the following cell to walk through one by one to see if anything stands out as odd."
   ]
  },
  {
   "cell_type": "code",
   "execution_count": 153,
   "metadata": {},
   "outputs": [
    {
     "data": {
      "text/html": [
       "<div>\n",
       "<style scoped>\n",
       "    .dataframe tbody tr th:only-of-type {\n",
       "        vertical-align: middle;\n",
       "    }\n",
       "\n",
       "    .dataframe tbody tr th {\n",
       "        vertical-align: top;\n",
       "    }\n",
       "\n",
       "    .dataframe thead th {\n",
       "        text-align: right;\n",
       "    }\n",
       "</style>\n",
       "<table border=\"1\" class=\"dataframe\">\n",
       "  <thead>\n",
       "    <tr style=\"text-align: right;\">\n",
       "      <th></th>\n",
       "      <th>Unnamed: 0</th>\n",
       "      <th>date</th>\n",
       "      <th>url</th>\n",
       "      <th>title</th>\n",
       "      <th>text</th>\n",
       "      <th>pull_time</th>\n",
       "      <th>keywords</th>\n",
       "      <th>analytics_keywords</th>\n",
       "    </tr>\n",
       "  </thead>\n",
       "  <tbody>\n",
       "    <tr>\n",
       "      <th>767</th>\n",
       "      <td>767</td>\n",
       "      <td>20201229</td>\n",
       "      <td>https://sputnikglobe.com/20201229/russian-epiv...</td>\n",
       "      <td>Russian EpiVacCorona Vaccine Has No Negative E...</td>\n",
       "      <td>MOSCOW (Sputnik) - The Russian coronavirus Epi...</td>\n",
       "      <td>2025-04-13T23:28:51</td>\n",
       "      <td>newsfeed, russia, rospotrebnadzor</td>\n",
       "      <td>russia, world, news, geo_Russia, tag_Rospotreb...</td>\n",
       "    </tr>\n",
       "    <tr>\n",
       "      <th>768</th>\n",
       "      <td>768</td>\n",
       "      <td>20201229</td>\n",
       "      <td>https://sputnikglobe.com/20201229/production-o...</td>\n",
       "      <td>Production of COVID-19 Vaccines in Russia Exce...</td>\n",
       "      <td>MOSCOW (Sputnik) - The Russian coronavirus Epi...</td>\n",
       "      <td>2025-04-13T23:28:58</td>\n",
       "      <td>newsfeed, russia, rospotrebnadzor</td>\n",
       "      <td>russia, world, news, geo_Russia, tag_Rospotreb...</td>\n",
       "    </tr>\n",
       "  </tbody>\n",
       "</table>\n",
       "</div>"
      ],
      "text/plain": [
       "     Unnamed: 0      date                                                url  \\\n",
       "767         767  20201229  https://sputnikglobe.com/20201229/russian-epiv...   \n",
       "768         768  20201229  https://sputnikglobe.com/20201229/production-o...   \n",
       "\n",
       "                                                 title  \\\n",
       "767  Russian EpiVacCorona Vaccine Has No Negative E...   \n",
       "768  Production of COVID-19 Vaccines in Russia Exce...   \n",
       "\n",
       "                                                  text            pull_time  \\\n",
       "767  MOSCOW (Sputnik) - The Russian coronavirus Epi...  2025-04-13T23:28:51   \n",
       "768  MOSCOW (Sputnik) - The Russian coronavirus Epi...  2025-04-13T23:28:58   \n",
       "\n",
       "                              keywords  \\\n",
       "767  newsfeed, russia, rospotrebnadzor   \n",
       "768  newsfeed, russia, rospotrebnadzor   \n",
       "\n",
       "                                    analytics_keywords  \n",
       "767  russia, world, news, geo_Russia, tag_Rospotreb...  \n",
       "768  russia, world, news, geo_Russia, tag_Rospotreb...  "
      ]
     },
     "execution_count": 153,
     "metadata": {},
     "output_type": "execute_result"
    }
   ],
   "source": [
    "df.loc[df.keywords==dups.iloc[0]['keywords']]"
   ]
  },
  {
   "cell_type": "markdown",
   "metadata": {},
   "source": [
    "Weird-looking urls: \n",
    "- [text in a box](https://sputnikglobe.com/20210825/live-updates-16-evacuees-from-afghanistan-test-positive-for-covid-19-in-india-as-delta-cases-rise-1083705747.html)\n",
    "    - The boxes start at `<div class=\"online__item-text m-last\">` and appear to be previous articles. Don't know if they should be included in text too, right now they are not included.\n",
    "- [multiple texts in box](https://sputnikglobe.com/20210824/live-updates-india-covid-19-cases-rise-to-3247-million-1083697851.html)\n",
    "    - same as text in a box\n",
    "- [tweets](https://sputnikglobe.com/20210823/seven-members-of-dalit-family-in-india-severely-beaten-over-black-magic-allegation-1083692603.html)\n",
    "    - They are contained in `<blockquote class=\"twitter-tweet\" align=\"center\" data-link-color=\"#069\">`. Don't know if they should be included in text too, right now they are not included.\n",
    "\n",
    "Additional keywords to pull\n",
    "- google_tags. E.g., `<script type=\"text/javascript\" id=\"\" charset=\"\">ym(google_tag_manager[\"rm\"][\"11997873\"](44),\"params\",{tags:{1082775132:[\"Military \\x26 Intelligence, Newsfeed, Joe Biden, US military, COVID-19, Vaccines, US soldiers, mandate\"]}});</script>`"
   ]
  }
 ],
 "metadata": {
  "kernelspec": {
   "display_name": ".venv",
   "language": "python",
   "name": "python3"
  },
  "language_info": {
   "codemirror_mode": {
    "name": "ipython",
    "version": 3
   },
   "file_extension": ".py",
   "mimetype": "text/x-python",
   "name": "python",
   "nbconvert_exporter": "python",
   "pygments_lexer": "ipython3",
   "version": "3.12.3"
  }
 },
 "nbformat": 4,
 "nbformat_minor": 2
}
